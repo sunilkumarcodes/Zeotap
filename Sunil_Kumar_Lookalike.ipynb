{
 "cells": [
  {
   "cell_type": "markdown",
   "metadata": {},
   "source": [
    "# Task 2: Lookalike model"
   ]
  },
  {
   "cell_type": "markdown",
   "metadata": {},
   "source": [
    "## importing the basics libraries"
   ]
  },
  {
   "cell_type": "code",
   "execution_count": 23,
   "metadata": {},
   "outputs": [],
   "source": [
    "import pandas as pd\n",
    "import numpy as np\n",
    "from sklearn.preprocessing import StandardScaler\n",
    "from sklearn.metrics.pairwise import cosine_similarity"
   ]
  },
  {
   "cell_type": "markdown",
   "metadata": {},
   "source": [
    "# Read the data"
   ]
  },
  {
   "cell_type": "code",
   "execution_count": 24,
   "metadata": {},
   "outputs": [],
   "source": [
    "\n",
    "products_df = pd.read_csv('Products.csv')\n",
    "customers_df = pd.read_csv('Customers.csv')\n",
    "transactions_df = pd.read_csv('Transactions.csv')"
   ]
  },
  {
   "cell_type": "markdown",
   "metadata": {},
   "source": [
    "# Convert dates to datetime"
   ]
  },
  {
   "cell_type": "code",
   "execution_count": 25,
   "metadata": {},
   "outputs": [],
   "source": [
    "\n",
    "customers_df['SignupDate'] = pd.to_datetime(customers_df['SignupDate'])\n",
    "transactions_df['TransactionDate'] = pd.to_datetime(transactions_df['TransactionDate'])"
   ]
  },
  {
   "cell_type": "markdown",
   "metadata": {},
   "source": [
    "# Create customer feature matrix"
   ]
  },
  {
   "cell_type": "code",
   "execution_count": 26,
   "metadata": {},
   "outputs": [],
   "source": [
    "\n",
    "def create_customer_features():\n",
    "    # Merge transactions with products to get category information\n",
    "    trans_prod = pd.merge(transactions_df, products_df, on='ProductID')\n",
    "    \n",
    "    # Calculate customer-level features\n",
    "    customer_features = pd.DataFrame()\n",
    "    \n",
    "    # 1. Total spend by category\n",
    "    category_spend = trans_prod.pivot_table(\n",
    "        index='CustomerID',\n",
    "        columns='Category',\n",
    "        values='TotalValue',\n",
    "        aggfunc='sum',\n",
    "        fill_value=0\n",
    "    )\n",
    "    \n",
    "    # 2. Average order value\n",
    "    avg_order = trans_prod.groupby('CustomerID')['TotalValue'].mean()\n",
    "    \n",
    "    # 3. Total number of transactions\n",
    "    transaction_count = trans_prod.groupby('CustomerID').size()\n",
    "    \n",
    "    # 4. Average items per transaction\n",
    "    avg_items = trans_prod.groupby('CustomerID')['Quantity'].mean()\n",
    "    \n",
    "    # 5. Days since signup\n",
    "    customers_df['DaysSinceSignup'] = (pd.Timestamp.now() - customers_df['SignupDate']).dt.days\n",
    "    # Combine all features\n",
    "    customer_features = pd.concat([\n",
    "        category_spend,\n",
    "        avg_order.rename('AvgOrderValue'),\n",
    "        transaction_count.rename('TransactionCount'),\n",
    "        avg_items.rename('AvgItemsPerTransaction'),\n",
    "        customers_df.set_index('CustomerID')['DaysSinceSignup']\n",
    "    ], axis=1)\n",
    "    \n",
    "    return customer_features    "
   ]
  },
  {
   "cell_type": "markdown",
   "metadata": {},
   "source": [
    "# Create feature matrix"
   ]
  },
  {
   "cell_type": "code",
   "execution_count": 27,
   "metadata": {},
   "outputs": [],
   "source": [
    "customer_features = create_customer_features()"
   ]
  },
  {
   "cell_type": "markdown",
   "metadata": {},
   "source": [
    "# Normalize features"
   ]
  },
  {
   "cell_type": "code",
   "execution_count": 28,
   "metadata": {},
   "outputs": [],
   "source": [
    "scaler = StandardScaler()\n",
    "normalized_features = scaler.fit_transform(customer_features.fillna(0))\n",
    "normalized_features_df = pd.DataFrame(\n",
    "    normalized_features, \n",
    "    index=customer_features.index,\n",
    "    columns=customer_features.columns\n",
    ")"
   ]
  },
  {
   "cell_type": "markdown",
   "metadata": {},
   "source": [
    "# Calculate similarity matrix"
   ]
  },
  {
   "cell_type": "code",
   "execution_count": 29,
   "metadata": {},
   "outputs": [],
   "source": [
    "similarity_matrix = cosine_similarity(normalized_features)\n",
    "similarity_df = pd.DataFrame(\n",
    "    similarity_matrix,\n",
    "    index=customer_features.index,\n",
    "    columns=customer_features.index\n",
    ")"
   ]
  },
  {
   "cell_type": "markdown",
   "metadata": {},
   "source": [
    "# Function to get top lookalikes"
   ]
  },
  {
   "cell_type": "code",
   "execution_count": 30,
   "metadata": {},
   "outputs": [],
   "source": [
    "def get_lookalikes(customer_id, n=3):\n",
    "    if customer_id not in similarity_df.index:\n",
    "        return []\n",
    "    \n",
    "    # Get similarity scores for the customer\n",
    "    customer_similarities = similarity_df.loc[customer_id]\n",
    "    \n",
    "    # Sort and get top n similar customers (excluding self)\n",
    "    top_similar = customer_similarities.sort_values(ascending=False)[1:n+1]\n",
    "    \n",
    "    return [(cust_id, round(score, 4)) for cust_id, score in top_similar.items()]\n"
   ]
  },
  {
   "cell_type": "markdown",
   "metadata": {},
   "source": [
    "# Generate lookalikes for first 20 customers"
   ]
  },
  {
   "cell_type": "code",
   "execution_count": 31,
   "metadata": {},
   "outputs": [],
   "source": [
    "lookalike_results = {}\n",
    "for cust_id in customers_df['CustomerID'][:20]:\n",
    "    lookalikes = get_lookalikes(cust_id)\n",
    "    lookalike_results[cust_id] = lookalikes"
   ]
  },
  {
   "cell_type": "markdown",
   "metadata": {},
   "source": [
    "# Create Lookalike.csv"
   ]
  },
  {
   "cell_type": "code",
   "execution_count": 32,
   "metadata": {},
   "outputs": [],
   "source": [
    "lookalike_data = []\n",
    "for cust_id, recommendations in lookalike_results.items():\n",
    "    # Format recommendations as a string\n",
    "    rec_str = ';'.join([f\"{rec[0]}:{rec[1]}\" for rec in recommendations])\n",
    "    lookalike_data.append({\n",
    "        'CustomerID': cust_id,\n",
    "        'Lookalikes': rec_str\n",
    "    })\n",
    "\n",
    "lookalike_df = pd.DataFrame(lookalike_data)\n",
    "lookalike_df.to_csv('Sunil_Kumar_Lookalike.csv', index=False)\n"
   ]
  },
  {
   "cell_type": "markdown",
   "metadata": {},
   "source": [
    "# Print results"
   ]
  },
  {
   "cell_type": "code",
   "execution_count": 33,
   "metadata": {},
   "outputs": [
    {
     "name": "stdout",
     "output_type": "stream",
     "text": [
      "Lookalike Recommendations for first 20 customers:\n",
      "\n",
      "C0001:\n",
      "  C0125: 0.8156\n",
      "  C0023: 0.8054\n",
      "  C0120: 0.7923\n",
      "\n",
      "C0002:\n",
      "  C0029: 0.8726\n",
      "  C0106: 0.8633\n",
      "  C0159: 0.8487\n",
      "\n",
      "C0003:\n",
      "  C0144: 0.8461\n",
      "  C0026: 0.7927\n",
      "  C0110: 0.7847\n",
      "\n",
      "C0004:\n",
      "  C0075: 0.9474\n",
      "  C0113: 0.8216\n",
      "  C0104: 0.7837\n",
      "\n",
      "C0005:\n",
      "  C0007: 0.8801\n",
      "  C0166: 0.8433\n",
      "  C0199: 0.7771\n",
      "\n",
      "C0006:\n",
      "  C0185: 0.9404\n",
      "  C0200: 0.8516\n",
      "  C0138: 0.8155\n",
      "\n",
      "C0007:\n",
      "  C0005: 0.8801\n",
      "  C0166: 0.8181\n",
      "  C0197: 0.7682\n",
      "\n",
      "C0008:\n",
      "  C0024: 0.8476\n",
      "  C0098: 0.7874\n",
      "  C0194: 0.7697\n",
      "\n",
      "C0009:\n",
      "  C0180: 0.9785\n",
      "  C0097: 0.9583\n",
      "  C0058: 0.9497\n",
      "\n",
      "C0010:\n",
      "  C0062: 0.9098\n",
      "  C0029: 0.8795\n",
      "  C0027: 0.8213\n",
      "\n",
      "C0011:\n",
      "  C0153: 0.8737\n",
      "  C0099: 0.7747\n",
      "  C0074: 0.7675\n",
      "\n",
      "C0012:\n",
      "  C0059: 0.8815\n",
      "  C0195: 0.8488\n",
      "  C0163: 0.8111\n",
      "\n",
      "C0013:\n",
      "  C0046: 0.9441\n",
      "  C0099: 0.8646\n",
      "  C0022: 0.8178\n",
      "\n",
      "C0014:\n",
      "  C0033: 0.978\n",
      "  C0032: 0.9152\n",
      "  C0015: 0.9139\n",
      "\n",
      "C0015:\n",
      "  C0014: 0.9139\n",
      "  C0123: 0.9135\n",
      "  C0128: 0.9035\n",
      "\n",
      "C0016:\n",
      "  C0126: 0.6635\n",
      "  C0191: 0.6345\n",
      "  C0044: 0.629\n",
      "\n",
      "C0017:\n",
      "  C0065: 0.8664\n",
      "  C0090: 0.7877\n",
      "  C0075: 0.7823\n",
      "\n",
      "C0018:\n",
      "  C0114: 0.8918\n",
      "  C0087: 0.8368\n",
      "  C0066: 0.7732\n",
      "\n",
      "C0019:\n",
      "  C0161: 0.8386\n",
      "  C0147: 0.7965\n",
      "  C0119: 0.7795\n",
      "\n",
      "C0020:\n",
      "  C0080: 0.8383\n",
      "  C0140: 0.8169\n",
      "  C0110: 0.807\n"
     ]
    }
   ],
   "source": [
    "print(\"Lookalike Recommendations for first 20 customers:\")\n",
    "for cust_id, lookalikes in lookalike_results.items():\n",
    "    print(f\"\\n{cust_id}:\")\n",
    "    for similar_cust, score in lookalikes:\n",
    "        print(f\"  {similar_cust}: {score}\")"
   ]
  }
 ],
 "metadata": {
  "kernelspec": {
   "display_name": "Python 3",
   "language": "python",
   "name": "python3"
  },
  "language_info": {
   "codemirror_mode": {
    "name": "ipython",
    "version": 3
   },
   "file_extension": ".py",
   "mimetype": "text/x-python",
   "name": "python",
   "nbconvert_exporter": "python",
   "pygments_lexer": "ipython3",
   "version": "3.12.1"
  }
 },
 "nbformat": 4,
 "nbformat_minor": 2
}
